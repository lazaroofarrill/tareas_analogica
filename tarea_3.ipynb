{
 "cells": [
  {
   "cell_type": "code",
   "execution_count": 240,
   "outputs": [],
   "source": [
    "def parallel(*args):\n",
    "    result = 0\n",
    "    for a in args:\n",
    "        result += 1/a\n",
    "\n",
    "    return 1/result\n"
   ],
   "metadata": {
    "collapsed": false,
    "pycharm": {
     "name": "#%%\n"
    }
   }
  },
  {
   "cell_type": "markdown",
   "source": [
    "# Tarea 3 Analogica\n",
    "#### Amplificadores en cascada\n",
    "\n",
    "##### a) puntos de operacion"
   ],
   "metadata": {
    "collapsed": false,
    "pycharm": {
     "name": "#%% md\n"
    }
   }
  },
  {
   "cell_type": "markdown",
   "source": [
    "Q1:"
   ],
   "metadata": {
    "collapsed": false,
    "pycharm": {
     "name": "#%% md\n"
    }
   }
  },
  {
   "cell_type": "code",
   "execution_count": 241,
   "outputs": [
    {
     "name": "stdout",
     "output_type": "stream",
     "text": [
      "Id =  0.00131608813057861\n",
      "Vgs =  -1.46085782494225\n",
      "Vds =  16.6684811957182\n"
     ]
    }
   ],
   "source": [
    "Idss = 5e-3 #A\n",
    "Vp = -3 #V\n",
    "Rf1 = 0.2e3 #ohm\n",
    "Rf2 = 0.91e3 #ohm\n",
    "\n",
    "from sympy import symbols, Eq, solve\n",
    "Id, Vgs = symbols('Id Vgs')\n",
    "\n",
    "eq1 = Eq(Id, Idss* (1 - Vgs/Vp)**2)\n",
    "eq2 = Eq(Vgs, -Id*(Rf1+Rf2))\n",
    "\n",
    "Vdd = 28 #V\n",
    "Rd =  7.5e3 #ohm\n",
    "\n",
    "\n",
    "ans =((Id, Vgs), (Id2, Vgs2)) = solve([eq1, eq2], (Id, Vgs))\n",
    "\n",
    "\n",
    "Vds = Vdd - Id*(Rd + Rf1 + Rf2)\n",
    "print ('Id = ', Id)\n",
    "print ('Vgs = ', Vgs)\n",
    "print ('Vds = ', Vds)\n",
    "\n",
    "\n"
   ],
   "metadata": {
    "collapsed": false,
    "pycharm": {
     "name": "#%%\n"
    }
   }
  },
  {
   "cell_type": "markdown",
   "source": [
    "Q2:"
   ],
   "metadata": {
    "collapsed": false,
    "pycharm": {
     "name": "#%% md\n"
    }
   }
  },
  {
   "cell_type": "code",
   "execution_count": 242,
   "outputs": [
    {
     "name": "stdout",
     "output_type": "stream",
     "text": [
      "Icq =  0.00252635288687040\n",
      "Ib =  7.65561480869818e-6\n",
      "Vce = 18.8164546209374\n"
     ]
    }
   ],
   "source": [
    "Vbe = .7 #V\n",
    "Icq = symbols('Icq')\n",
    "Re1 = 0.33e3 #ohm\n",
    "Re2 = 3.3e3 #ohm\n",
    "Re = Re1 + Re2\n",
    "\n",
    "eq1 = Eq(Id*Rd, Icq*Re+Vbe)\n",
    "ans  = solve(eq1, Icq)\n",
    "\n",
    "Icq = ans[0]\n",
    "\n",
    "hfe = 330\n",
    "\n",
    "Ib = Icq / hfe\n",
    "\n",
    "Rc = 5.1\n",
    "\n",
    "Vce = symbols('Vce')\n",
    "\n",
    "eq1 = Eq(-Vdd+Icq*Re+Vce+Icq*Rc, 0)\n",
    "\n",
    "ans = solve(eq1, Vce)\n",
    "Vce = ans[0]\n",
    "print ('Icq = ',Icq)\n",
    "print ('Ib = ', Ib)\n",
    "print('Vce =', Vce)\n"
   ],
   "metadata": {
    "collapsed": false,
    "pycharm": {
     "name": "#%%\n"
    }
   }
  },
  {
   "cell_type": "markdown",
   "source": [
    "potencias disipadas"
   ],
   "metadata": {
    "collapsed": false,
    "pycharm": {
     "name": "#%% md\n"
    }
   }
  },
  {
   "cell_type": "code",
   "execution_count": 243,
   "outputs": [
    {
     "name": "stdout",
     "output_type": "stream",
     "text": [
      "Pq1 =  0.0219371902564574\n",
      "Pq2 =  0.0475370044522711\n",
      "PVdd =  0.107588348488572\n",
      "\n"
     ]
    }
   ],
   "source": [
    "Pq1 = Vds*Id\n",
    "Pq2 = Vce*Icq\n",
    "PVdd = Vdd*(Id+Icq)\n",
    "\n",
    "print('Pq1 = ', Pq1)\n",
    "print('Pq2 = ', Pq2)\n",
    "print('PVdd = ', PVdd)\n",
    "print()"
   ],
   "metadata": {
    "collapsed": false,
    "pycharm": {
     "name": "#%%\n"
    }
   }
  },
  {
   "cell_type": "markdown",
   "source": [
    "##### b) max Rd"
   ],
   "metadata": {
    "collapsed": false,
    "pycharm": {
     "name": "#%% md\n"
    }
   }
  },
  {
   "cell_type": "code",
   "execution_count": 244,
   "outputs": [
    {
     "name": "stdout",
     "output_type": "stream",
     "text": [
      "Max Rd =  18995.6883730946\n"
     ]
    }
   ],
   "source": [
    "#inciso b\n",
    "#maximo Rd\n",
    "maxRd = symbols('maxRd')\n",
    "\n",
    "eq1 = Eq(Vgs - Vp, Vdd - Id*(maxRd + Rf1 + Rf2))\n",
    "\n",
    "ans = solve(eq1)\n",
    "maxRd = ans[0]\n",
    "\n",
    "print('Max Rd = ', maxRd)"
   ],
   "metadata": {
    "collapsed": false,
    "pycharm": {
     "name": "#%%\n"
    }
   }
  },
  {
   "cell_type": "markdown",
   "source": [
    "##### c) ganancias"
   ],
   "metadata": {
    "collapsed": false,
    "pycharm": {
     "name": "#%% md\n"
    }
   }
  },
  {
   "cell_type": "code",
   "execution_count": 245,
   "outputs": [
    {
     "name": "stdout",
     "output_type": "stream",
     "text": [
      "u =  34.2031594457277\n",
      "gm =  0.00171015797228639\n",
      "uVgs =  -49.9659531140389\n",
      "hie =  3396.20012888570\n",
      "Rl1 =  112626.200128886\n",
      "27231.7424513583\n",
      "Av1 =  8.96678781271159\n"
     ]
    }
   ],
   "source": [
    "rd = 20e3 #ohm\n",
    "\n",
    "\n",
    "gm = 2*Idss/abs(Vp)*(1-Vgs/Vp)\n",
    "u = gm*rd\n",
    "\n",
    "uVgs = u*Vgs\n",
    "\n",
    "print('u = ', u)\n",
    "print('gm = ', gm)\n",
    "print('uVgs = ', uVgs)\n",
    "\n",
    "\n",
    "\n",
    "Vt = 26e-3 #V\n",
    "hie = hfe*Vt/Icq\n",
    "\n",
    "print('hie = ', hie)\n",
    "\n",
    "Rl1 = (hie+(hfe+1)*Re1)\n",
    "\n",
    "print ('Rl1 = ', Rl1)\n",
    "Rg = 1e6\n",
    "Rs = 150e3\n",
    "\n",
    "Rt = Rf1+rd+parallel(Rd,Rl1)\n",
    "print(Rt)\n",
    "\n",
    "Av1 = (-uVgs*parallel(Rd, Rl1)/(parallel(Rd, Rl1)+rd+Rf1))\\\n",
    "        *(1/(1+u*(Rf1/(parallel(Rd, Rl1)+rd+Rf1))))\\\n",
    "        *Rg/(Rg+Rs)\n",
    "\n",
    "print('Av1 = ', Av1)\n",
    "\n",
    "\n",
    "\n"
   ],
   "metadata": {
    "collapsed": false,
    "pycharm": {
     "name": "#%%\n"
    }
   }
  }
 ],
 "metadata": {
  "kernelspec": {
   "name": "pycharm-cc2a416",
   "language": "python",
   "display_name": "PyCharm (untitled)"
  },
  "language_info": {
   "codemirror_mode": {
    "name": "ipython",
    "version": 2
   },
   "file_extension": ".py",
   "mimetype": "text/x-python",
   "name": "python",
   "nbconvert_exporter": "python",
   "pygments_lexer": "ipython2",
   "version": "2.7.6"
  }
 },
 "nbformat": 4,
 "nbformat_minor": 0
}