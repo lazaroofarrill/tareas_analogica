{
 "cells": [
  {
   "cell_type": "code",
   "execution_count": 38,
   "outputs": [],
   "source": [
    "def parallel(*args):\n",
    "    result = 0\n",
    "    for a in args:\n",
    "        result += 1/a\n",
    "\n",
    "    return 1/result\n",
    "\n",
    "from math import log10\n"
   ],
   "metadata": {
    "collapsed": false,
    "pycharm": {
     "name": "#%%\n"
    }
   }
  },
  {
   "cell_type": "markdown",
   "source": [
    "# Tarea 3 Analogica\n",
    "#### Amplificadores en cascada\n",
    "\n",
    "##### a) puntos de operacion"
   ],
   "metadata": {
    "collapsed": false,
    "pycharm": {
     "name": "#%% md\n"
    }
   }
  },
  {
   "cell_type": "markdown",
   "source": [
    "Q1:"
   ],
   "metadata": {
    "collapsed": false,
    "pycharm": {
     "name": "#%% md\n"
    }
   }
  },
  {
   "cell_type": "code",
   "execution_count": 39,
   "outputs": [
    {
     "name": "stdout",
     "output_type": "stream",
     "text": [
      "Id =  0.00131608813057861\n",
      "Vgs =  -1.46085782494225\n",
      "Vds =  16.6684811957182\n"
     ]
    }
   ],
   "source": [
    "Idss = 5e-3 #A\n",
    "Vp = -3 #V\n",
    "Rf1 = 0.2e3 #ohm\n",
    "Rf2 = 0.91e3 #ohm\n",
    "\n",
    "from sympy import symbols, Eq, solve\n",
    "Id, Vgs = symbols('Id Vgs')\n",
    "\n",
    "eq1 = Eq(Id, Idss* (1 - Vgs/Vp)**2)\n",
    "eq2 = Eq(Vgs, -Id*(Rf1+Rf2))\n",
    "\n",
    "Vdd = 28 #V\n",
    "Rd =  7.5e3 #ohm\n",
    "\n",
    "\n",
    "ans =((Id, Vgs), (Id2, Vgs2)) = solve([eq1, eq2], (Id, Vgs))\n",
    "\n",
    "\n",
    "Vds = Vdd - Id*(Rd + Rf1 + Rf2)\n",
    "print ('Id = ', Id)\n",
    "print ('Vgs = ', Vgs)\n",
    "print ('Vds = ', Vds)\n",
    "\n",
    "\n"
   ],
   "metadata": {
    "collapsed": false,
    "pycharm": {
     "name": "#%%\n"
    }
   }
  },
  {
   "cell_type": "markdown",
   "source": [
    "Q2:"
   ],
   "metadata": {
    "collapsed": false,
    "pycharm": {
     "name": "#%% md\n"
    }
   }
  },
  {
   "cell_type": "code",
   "execution_count": 40,
   "outputs": [
    {
     "name": "stdout",
     "output_type": "stream",
     "text": [
      "Icq =  0.00252635288687040\n",
      "Ib =  7.65561480869818e-6\n",
      "Vce = 5.94493929762142\n"
     ]
    }
   ],
   "source": [
    "Vbe = .7 #V\n",
    "Icq = symbols('Icq')\n",
    "Re1 = 0.33e3 #ohm\n",
    "Re2 = 3.3e3 #ohm\n",
    "Re = Re1 + Re2\n",
    "\n",
    "eq1 = Eq(Id*Rd, Icq*Re+Vbe)\n",
    "ans  = solve(eq1, Icq)\n",
    "\n",
    "Icq = ans[0]\n",
    "\n",
    "hfe = 330\n",
    "\n",
    "Ib = Icq / hfe\n",
    "\n",
    "Rc = 5.1e3\n",
    "\n",
    "Vce = symbols('Vce')\n",
    "\n",
    "eq1 = Eq(-Vdd+Icq*Re+Vce+Icq*Rc, 0)\n",
    "\n",
    "ans = solve(eq1, Vce)\n",
    "Vce = ans[0]\n",
    "print ('Icq = ',Icq)\n",
    "print ('Ib = ', Ib)\n",
    "print('Vce =', Vce)\n"
   ],
   "metadata": {
    "collapsed": false,
    "pycharm": {
     "name": "#%%\n"
    }
   }
  },
  {
   "cell_type": "markdown",
   "source": [
    "potencias disipadas"
   ],
   "metadata": {
    "collapsed": false,
    "pycharm": {
     "name": "#%% md\n"
    }
   }
  },
  {
   "cell_type": "code",
   "execution_count": 41,
   "outputs": [
    {
     "name": "stdout",
     "output_type": "stream",
     "text": [
      "Pq1 =  0.0219371902564574\n",
      "Pq2 =  0.0150190145568152\n",
      "PVdd =  0.107588348488572\n",
      "\n"
     ]
    }
   ],
   "source": [
    "Pq1 = Vds*Id\n",
    "Pq2 = Vce*Icq\n",
    "PVdd = Vdd*(Id+Icq)\n",
    "\n",
    "print('Pq1 = ', Pq1)\n",
    "print('Pq2 = ', Pq2)\n",
    "print('PVdd = ', PVdd)\n",
    "print()"
   ],
   "metadata": {
    "collapsed": false,
    "pycharm": {
     "name": "#%%\n"
    }
   }
  },
  {
   "cell_type": "markdown",
   "source": [
    "##### b) max Rd"
   ],
   "metadata": {
    "collapsed": false,
    "pycharm": {
     "name": "#%% md\n"
    }
   }
  },
  {
   "cell_type": "code",
   "execution_count": 42,
   "outputs": [
    {
     "name": "stdout",
     "output_type": "stream",
     "text": [
      "Max Rd =  18995.6883730946\n"
     ]
    }
   ],
   "source": [
    "#inciso b\n",
    "#maximo Rd\n",
    "maxRd = symbols('maxRd')\n",
    "\n",
    "eq1 = Eq(Vgs - Vp, Vdd - Id*(maxRd + Rf1 + Rf2))\n",
    "\n",
    "ans = solve(eq1)\n",
    "maxRd = ans[0]\n",
    "\n",
    "print('Max Rd = ', maxRd)"
   ],
   "metadata": {
    "collapsed": false,
    "pycharm": {
     "name": "#%%\n"
    }
   }
  },
  {
   "cell_type": "markdown",
   "source": [
    "##### c) ganancias"
   ],
   "metadata": {
    "collapsed": false,
    "pycharm": {
     "name": "#%% md\n"
    }
   }
  },
  {
   "cell_type": "code",
   "execution_count": 43,
   "outputs": [
    {
     "name": "stdout",
     "output_type": "stream",
     "text": [
      "u =  34.2031594457277\n",
      "gm =  0.00171015797228639\n",
      "uVgs =  -49.9659531140389\n",
      "hie =  3396.20012888570\n",
      "Ri2 =  112626.200128886\n",
      "\n",
      "Av1 =  -6.13802908100660\n",
      "Av2 =  -11.1516693967873\n"
     ]
    }
   ],
   "source": [
    "rd = 20e3 #ohm\n",
    "\n",
    "\n",
    "gm = 2*Idss/abs(Vp)*(1-Vgs/Vp)\n",
    "u = gm*rd\n",
    "\n",
    "uVgs = u*Vgs\n",
    "\n",
    "print('u = ', u)\n",
    "print('gm = ', gm)\n",
    "print('uVgs = ', uVgs)\n",
    "\n",
    "\n",
    "\n",
    "Vt = 26e-3 #V\n",
    "hie = hfe*Vt/Icq\n",
    "\n",
    "print('hie = ', hie)\n",
    "\n",
    "Ri2 = (hie+(hfe+1)*Re1)\n",
    "\n",
    "print ('Ri2 = ', Ri2)\n",
    "Rg = 1e6\n",
    "Rs = 150e3\n",
    "\n",
    "Rt1 = Rf1+rd+parallel(Rd,Ri2)\n",
    "\n",
    "\n",
    "Av1 = (-u*parallel(Rd, Ri2)/Rt1)\\\n",
    "        *(1/(1+u*(Rf1/Rt1)))\\\n",
    "        *Rg/(Rg+Rs)\n",
    "\n",
    "\n",
    "Rl = 15e3\n",
    "\n",
    "Rl2 = parallel(Rc, Rl)\n",
    "\n",
    "Av2 = (-hfe*Rl2/Ri2)\n",
    "Avs = Av2*Av1\n",
    "print()\n",
    "\n",
    "\n",
    "print('Av1 = ', Av1)\n",
    "print('Av2 = ', Av2)"
   ],
   "metadata": {
    "collapsed": false,
    "pycharm": {
     "name": "#%%\n"
    }
   }
  },
  {
   "cell_type": "markdown",
   "source": [
    "d)"
   ],
   "metadata": {
    "collapsed": false,
    "pycharm": {
     "name": "#%% md\n"
    }
   }
  },
  {
   "cell_type": "code",
   "execution_count": 44,
   "outputs": [
    {
     "name": "stdout",
     "output_type": "stream",
     "text": [
      "Avs =  68.4492710592514 | 36.707376550749956  dB\n",
      "Ais =  684.492710592514\n",
      "ApdB =  46.70737655074995\n"
     ]
    }
   ],
   "source": [
    "print('Avs = ', Avs, '|', 20*log10(Avs), ' dB')\n",
    "\n",
    "Ais = Avs*(Rs/Rl)\n",
    "print('Ais = ', Ais)\n",
    "\n",
    "ApdB = 10*log10(Avs*Ais)\n",
    "\n",
    "print('ApdB = ', ApdB)"
   ],
   "metadata": {
    "collapsed": false,
    "pycharm": {
     "name": "#%%\n"
    }
   }
  }
 ],
 "metadata": {
  "kernelspec": {
   "name": "pycharm-cc2a416",
   "language": "python",
   "display_name": "PyCharm (untitled)"
  },
  "language_info": {
   "codemirror_mode": {
    "name": "ipython",
    "version": 2
   },
   "file_extension": ".py",
   "mimetype": "text/x-python",
   "name": "python",
   "nbconvert_exporter": "python",
   "pygments_lexer": "ipython2",
   "version": "2.7.6"
  }
 },
 "nbformat": 4,
 "nbformat_minor": 0
}