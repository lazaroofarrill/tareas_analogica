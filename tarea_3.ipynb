{
 "cells": [
  {
   "cell_type": "markdown",
   "source": [
    "# Tarea 3 Analogica\n",
    "#### Amplificadores en cascada\n",
    "\n",
    "##### a) puntos de operacion"
   ],
   "metadata": {
    "collapsed": false,
    "pycharm": {
     "name": "#%% md\n"
    }
   }
  },
  {
   "cell_type": "markdown",
   "source": [
    "Q1:"
   ],
   "metadata": {
    "collapsed": false,
    "pycharm": {
     "name": "#%% md\n"
    }
   }
  },
  {
   "cell_type": "code",
   "execution_count": 41,
   "outputs": [
    {
     "name": "stdout",
     "output_type": "stream",
     "text": [
      "Id =  0.00131608813057861\n",
      "Vgs =  -1.46085782494225\n",
      "Vds =  16.6684811957182\n"
     ]
    }
   ],
   "source": [
    "Idss = 5e-3 #A\n",
    "Vp = -3 #V\n",
    "Rf1 = 0.2e3 #ohm\n",
    "Rf2 = 0.91e3 #ohm\n",
    "\n",
    "from sympy import symbols, Eq, solve\n",
    "Id, Vgs = symbols('Id Vgs')\n",
    "\n",
    "eq1 = Eq(Id, Idss* (1 - Vgs/Vp)**2)\n",
    "eq2 = Eq(Vgs, -Id*(Rf1+Rf2))\n",
    "\n",
    "Vdd = 28 #V\n",
    "Rd =  7.5e3 #ohm\n",
    "\n",
    "\n",
    "ans =((Id, Vgs), (Id2, Vgs2)) = solve([eq1, eq2], (Id, Vgs))\n",
    "\n",
    "\n",
    "Vds = Vdd - Id*(Rd + Rf1 + Rf2)\n",
    "print ('Id = ', Id)\n",
    "print ('Vgs = ', Vgs)\n",
    "print ('Vds = ', Vds)\n",
    "\n",
    "\n"
   ],
   "metadata": {
    "collapsed": false,
    "pycharm": {
     "name": "#%%\n"
    }
   }
  },
  {
   "cell_type": "markdown",
   "source": [
    "Q2:"
   ],
   "metadata": {
    "collapsed": false,
    "pycharm": {
     "name": "#%% md\n"
    }
   }
  },
  {
   "cell_type": "code",
   "execution_count": 42,
   "outputs": [
    {
     "name": "stdout",
     "output_type": "stream",
     "text": [
      "Icq =  0.00252635288687040\n",
      "Ib =  8.71156167886345e-6\n",
      "Vce = 18.8164546209374\n"
     ]
    }
   ],
   "source": [
    "Vbe = .7 #V\n",
    "Icq = symbols('Icq')\n",
    "Re1 = 0.33e3 #ohm\n",
    "Re2 = 3.3e3 #ohm\n",
    "Re = Re1 + Re2\n",
    "\n",
    "eq1 = Eq(Id*Rd, Icq*Re+Vbe)\n",
    "ans  = solve(eq1, Icq)\n",
    "\n",
    "Icq = ans[0]\n",
    "\n",
    "hFE = 290\n",
    "\n",
    "Ib = Icq / hFE\n",
    "\n",
    "Rc = 5.1\n",
    "\n",
    "Vce = symbols('Vce')\n",
    "\n",
    "eq1 = Eq(-Vdd+Icq*Re+Vce+Icq*Rc, 0)\n",
    "\n",
    "ans = solve(eq1, Vce)\n",
    "Vce = ans[0]\n",
    "print ('Icq = ',Icq)\n",
    "print ('Ib = ', Ib)\n",
    "print('Vce =', Vce)\n"
   ],
   "metadata": {
    "collapsed": false,
    "pycharm": {
     "name": "#%%\n"
    }
   }
  },
  {
   "cell_type": "markdown",
   "source": [
    "potencias disipadas"
   ],
   "metadata": {
    "collapsed": false,
    "pycharm": {
     "name": "#%% md\n"
    }
   }
  },
  {
   "cell_type": "code",
   "execution_count": 43,
   "outputs": [
    {
     "name": "stdout",
     "output_type": "stream",
     "text": [
      "Pq1 =  0.0219371902564574\n",
      "Pq2 =  0.0475370044522711\n",
      "PVdd =  0.107588348488572\n",
      "\n"
     ]
    }
   ],
   "source": [
    "Pq1 = Vds*Id\n",
    "Pq2 = Vce*Icq\n",
    "PVdd = Vdd*(Id+Icq)\n",
    "\n",
    "print('Pq1 = ', Pq1)\n",
    "print('Pq2 = ', Pq2)\n",
    "print('PVdd = ', PVdd)\n",
    "print()"
   ],
   "metadata": {
    "collapsed": false,
    "pycharm": {
     "name": "#%%\n"
    }
   }
  },
  {
   "cell_type": "markdown",
   "source": [
    "##### b) max Rd"
   ],
   "metadata": {
    "collapsed": false,
    "pycharm": {
     "name": "#%% md\n"
    }
   }
  },
  {
   "cell_type": "code",
   "execution_count": 44,
   "outputs": [
    {
     "name": "stdout",
     "output_type": "stream",
     "text": [
      "Max Rd =  18995.6883730946\n"
     ]
    }
   ],
   "source": [
    "#inciso b\n",
    "#maximo Rd\n",
    "Rd = symbols('Rd')\n",
    "\n",
    "eq1 = Eq(Vgs - Vp, Vdd - Id*(Rd + Rf1 + Rf2))\n",
    "\n",
    "ans = solve(eq1)\n",
    "maxRd = ans[0]\n",
    "\n",
    "print('Max Rd = ', maxRd)"
   ],
   "metadata": {
    "collapsed": false,
    "pycharm": {
     "name": "#%%\n"
    }
   }
  },
  {
   "cell_type": "markdown",
   "source": [
    "##### c) ganancias"
   ],
   "metadata": {
    "collapsed": false,
    "pycharm": {
     "name": "#%% md\n"
    }
   }
  },
  {
   "cell_type": "code",
   "execution_count": 45,
   "outputs": [
    {
     "name": "stdout",
     "output_type": "stream",
     "text": [
      "uVgs =  -49.9659531140389\n"
     ]
    }
   ],
   "source": [
    "rd = 20e3 #ohm\n",
    "\n",
    "gm = 2*Idss/Vp**2*(Vgs-Vp)\n",
    "u = gm*rd\n",
    "\n",
    "uVgs = u*Vgs\n",
    "\n",
    "print('u = ', u)\n",
    "print('gm = ', gm)\n",
    "print('uVgs = ', uVgs)\n",
    "\n"
   ],
   "metadata": {
    "collapsed": false,
    "pycharm": {
     "name": "#%%\n"
    }
   }
  }
 ],
 "metadata": {
  "kernelspec": {
   "name": "pycharm-cc2a416",
   "language": "python",
   "display_name": "PyCharm (untitled)"
  },
  "language_info": {
   "codemirror_mode": {
    "name": "ipython",
    "version": 2
   },
   "file_extension": ".py",
   "mimetype": "text/x-python",
   "name": "python",
   "nbconvert_exporter": "python",
   "pygments_lexer": "ipython2",
   "version": "2.7.6"
  }
 },
 "nbformat": 4,
 "nbformat_minor": 0
}